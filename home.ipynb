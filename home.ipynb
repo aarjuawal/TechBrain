{
 "cells": [
  {
   "cell_type": "code",
   "execution_count": 19,
   "metadata": {},
   "outputs": [],
   "source": [
    "from selenium import webdriver\n",
    "from selenium.webdriver.common.by import By\n",
    "import time\n",
    "from selenium.webdriver.support.ui import WebDriverWait\n",
    "from selenium.webdriver.support import expected_conditions as EC\n",
    "from selenium.webdriver.common.alert import Alert"
   ]
  },
  {
   "cell_type": "code",
   "execution_count": 3,
   "metadata": {},
   "outputs": [],
   "source": [
    "def setup():\n",
    "    driver = webdriver.Chrome()\n",
    "    driver.get(\"https://techbrain.ai/\")\n",
    "    return driver\n",
    "def teardown(driver):\n",
    "    driver.quit()"
   ]
  },
  {
   "cell_type": "code",
   "execution_count": 4,
   "metadata": {},
   "outputs": [],
   "source": [
    "def get_button():\n",
    "    driver = setup()\n",
    "    startBtn = driver.find_element(By.XPATH, '//a[@href=\"/introduction-to-ruby-and-object-oriented-programming/lessons/goals-of-the-intro-course\"]')\n",
    "    startBtn.click()\n",
    "    teardown(driver)\n",
    "get_button()\n"
   ]
  },
  {
   "cell_type": "code",
   "execution_count": 5,
   "metadata": {},
   "outputs": [],
   "source": [
    "def get_lists():\n",
    "    driver = setup()\n",
    "    wait = WebDriverWait(driver, 10)\n",
    "    \n",
    "    try:\n",
    "        llists = wait.until(EC.element_to_be_clickable((By.XPATH, '//a[@class=\"flex mb-3\"]')))\n",
    "        llists.click()\n",
    "        \n",
    "        lesson = wait.until(EC.element_to_be_clickable((By.XPATH, '//a[@href=\"/introduction-to-ruby-and-object-oriented-programming/lessons/goals-of-the-intro-course\"]')))\n",
    "        lesson.click()\n",
    "        \n",
    "        course = wait.until(EC.element_to_be_clickable((By.XPATH, '//a[@data-modal-target=\"lessonListModal\"]')))\n",
    "        course.click()\n",
    "        \n",
    "        lesson4 = wait.until(EC.element_to_be_clickable((By.XPATH, '//a[@href=\"/introduction-to-ruby-and-object-oriented-programming/lessons/your-first-ruby-program\"]')))\n",
    "        lesson4.click()\n",
    "        \n",
    "        quiz = wait.until(EC.element_to_be_clickable((By.XPATH, '//a[@href=\"/introduction-to-ruby-and-object-oriented-programming/lessons/your-first-ruby-program/quiz\"]')))\n",
    "        quiz.click()\n",
    "        \n",
    "        checkboxes = wait.until(EC.presence_of_all_elements_located((By.XPATH, \"//input[@type='checkbox']\")))\n",
    "        for checkbox in checkboxes:\n",
    "            checkbox.click()\n",
    "        \n",
    "        submit_button = wait.until(EC.element_to_be_clickable((By.XPATH, \"//button[contains(text(), 'Submit')]\")))\n",
    "        submit_button.click()\n",
    "    \n",
    "    except Exception as e:\n",
    "        print(\"An error occurred during the process:\", e)\n",
    "    \n",
    "    teardown(driver)\n",
    "\n",
    "get_lists()"
   ]
  },
  {
   "cell_type": "code",
   "execution_count": 6,
   "metadata": {},
   "outputs": [],
   "source": [
    "def get_logo():\n",
    "    driver = setup()\n",
    "    lists = driver.find_element(By.XPATH, '//img[@alt=\"Techbrain\"]')\n",
    "    lists.click()\n",
    "    teardown(driver)\n",
    "get_logo()"
   ]
  },
  {
   "cell_type": "code",
   "execution_count": 7,
   "metadata": {},
   "outputs": [],
   "source": [
    "def get_footer():\n",
    "    driver = setup()\n",
    "    footer = driver.find_element(By.XPATH, '//footer').is_displayed()\n",
    "    teardown(driver)\n",
    "get_footer()"
   ]
  },
  {
   "cell_type": "code",
   "execution_count": 8,
   "metadata": {},
   "outputs": [
    {
     "name": "stdout",
     "output_type": "stream",
     "text": [
      "Continue link clicked!\n"
     ]
    }
   ],
   "source": [
    "def sign_in(driver):\n",
    "    wait = WebDriverWait(driver, 10)\n",
    "\n",
    "    signinBtn = wait.until(EC.element_to_be_clickable((By.XPATH, '//a[@href=\"/users/sign_in\"]')))\n",
    "    signinBtn.click()\n",
    "\n",
    "    username = wait.until(EC.presence_of_element_located((By.XPATH, \"//input[@type='email']\")))\n",
    "    username.send_keys(\"aarzuawal@gmail.com\")\n",
    "\n",
    "    password = wait.until(EC.presence_of_element_located((By.ID, \"user_password\")))\n",
    "    password.send_keys(\"Aa@@123\")\n",
    "\n",
    "    submit = wait.until(EC.element_to_be_clickable((By.XPATH, \"//input[@type='submit']\")))\n",
    "    submit.click()\n",
    "    return driver \n",
    "def start():\n",
    "    driver = setup()\n",
    "    sign_in(driver)  # Ensuring login is completed first\n",
    "    wait = WebDriverWait(driver, 20)  \n",
    "    \n",
    "    try:\n",
    "        start_link = wait.until(EC.element_to_be_clickable((By.LINK_TEXT, \"Start\")))\n",
    "        start_link.click()\n",
    "        print(\"Start link clicked!\")\n",
    "    except:\n",
    "        try:\n",
    "            continue_link = wait.until(EC.element_to_be_clickable((By.LINK_TEXT, \"Continue\")))\n",
    "            continue_link.click()\n",
    "            print(\"Continue link clicked!\")\n",
    "        except Exception as e:\n",
    "            print(\"Neither Start nor Continue button found or clickable:\", e)\n",
    "            return\n",
    "    time.sleep(4)\n",
    "    teardown(driver)\n",
    "start()\n",
    "  \n"
   ]
  },
  {
   "cell_type": "code",
   "execution_count": 14,
   "metadata": {},
   "outputs": [
    {
     "name": "stdout",
     "output_type": "stream",
     "text": [
      "Sign-up form submitted!\n"
     ]
    },
    {
     "ename": "TimeoutException",
     "evalue": "Message: \nStacktrace:\n\tGetHandleVerifier [0x00007FF67DA26EE5+28773]\n\t(No symbol) [0x00007FF67D9925D0]\n\t(No symbol) [0x00007FF67D828FAA]\n\t(No symbol) [0x00007FF67D87F286]\n\t(No symbol) [0x00007FF67D87F4BC]\n\t(No symbol) [0x00007FF67D8D2A27]\n\t(No symbol) [0x00007FF67D8A728F]\n\t(No symbol) [0x00007FF67D8CF6F3]\n\t(No symbol) [0x00007FF67D8A7023]\n\t(No symbol) [0x00007FF67D86FF5E]\n\t(No symbol) [0x00007FF67D8711E3]\n\tGetHandleVerifier [0x00007FF67DD7422D+3490733]\n\tGetHandleVerifier [0x00007FF67DD8BA13+3586963]\n\tGetHandleVerifier [0x00007FF67DD8144D+3544525]\n\tGetHandleVerifier [0x00007FF67DAEC9AA+838442]\n\t(No symbol) [0x00007FF67D99D01F]\n\t(No symbol) [0x00007FF67D9995E4]\n\t(No symbol) [0x00007FF67D999786]\n\t(No symbol) [0x00007FF67D988CB9]\n\tBaseThreadInitThunk [0x00007FFB3B307374+20]\n\tRtlUserThreadStart [0x00007FFB3D2BCC91+33]\n",
     "output_type": "error",
     "traceback": [
      "\u001b[1;31m---------------------------------------------------------------------------\u001b[0m",
      "\u001b[1;31mTimeoutException\u001b[0m                          Traceback (most recent call last)",
      "Cell \u001b[1;32mIn[14], line 41\u001b[0m\n\u001b[0;32m     38\u001b[0m     sign_in(driver)\n\u001b[0;32m     39\u001b[0m     teardown(driver)\n\u001b[1;32m---> 41\u001b[0m \u001b[43msign_up\u001b[49m\u001b[43m(\u001b[49m\u001b[43m)\u001b[49m\n",
      "Cell \u001b[1;32mIn[14], line 34\u001b[0m, in \u001b[0;36msign_up\u001b[1;34m()\u001b[0m\n\u001b[0;32m     30\u001b[0m     \u001b[38;5;28mprint\u001b[39m(\u001b[38;5;124m\"\u001b[39m\u001b[38;5;124mAn error occurred during the process:\u001b[39m\u001b[38;5;124m\"\u001b[39m, e)\n\u001b[0;32m     33\u001b[0m driver\u001b[38;5;241m.\u001b[39mget(\u001b[38;5;124m\"\u001b[39m\u001b[38;5;124mhttps://app.endtest.io/mailbox?email=jjj@endtest-mail.io\u001b[39m\u001b[38;5;124m\"\u001b[39m)\n\u001b[1;32m---> 34\u001b[0m mail \u001b[38;5;241m=\u001b[39m \u001b[43mwait\u001b[49m\u001b[38;5;241;43m.\u001b[39;49m\u001b[43muntil\u001b[49m\u001b[43m(\u001b[49m\u001b[43mEC\u001b[49m\u001b[38;5;241;43m.\u001b[39;49m\u001b[43melement_to_be_clickable\u001b[49m\u001b[43m(\u001b[49m\u001b[43m(\u001b[49m\u001b[43mBy\u001b[49m\u001b[38;5;241;43m.\u001b[39;49m\u001b[43mCLASS_NAME\u001b[49m\u001b[43m,\u001b[49m\u001b[43m \u001b[49m\u001b[38;5;124;43m\"\u001b[39;49m\u001b[38;5;124;43memail_item\u001b[39;49m\u001b[38;5;124;43m\"\u001b[39;49m\u001b[43m)\u001b[49m\u001b[43m)\u001b[49m\u001b[43m)\u001b[49m \n\u001b[0;32m     35\u001b[0m mail\u001b[38;5;241m.\u001b[39mclick()\n\u001b[0;32m     36\u001b[0m mailLink \u001b[38;5;241m=\u001b[39m wait\u001b[38;5;241m.\u001b[39muntil(EC\u001b[38;5;241m.\u001b[39melement_to_be_clickable((By\u001b[38;5;241m.\u001b[39mXPATH, \u001b[38;5;124m\"\u001b[39m\u001b[38;5;124m(//a)[1]\u001b[39m\u001b[38;5;124m\"\u001b[39m))) \n",
      "File \u001b[1;32m~\\AppData\\Roaming\\Python\\Python312\\site-packages\\selenium\\webdriver\\support\\wait.py:146\u001b[0m, in \u001b[0;36mWebDriverWait.until\u001b[1;34m(self, method, message)\u001b[0m\n\u001b[0;32m    144\u001b[0m         \u001b[38;5;28;01mbreak\u001b[39;00m\n\u001b[0;32m    145\u001b[0m     time\u001b[38;5;241m.\u001b[39msleep(\u001b[38;5;28mself\u001b[39m\u001b[38;5;241m.\u001b[39m_poll)\n\u001b[1;32m--> 146\u001b[0m \u001b[38;5;28;01mraise\u001b[39;00m TimeoutException(message, screen, stacktrace)\n",
      "\u001b[1;31mTimeoutException\u001b[0m: Message: \nStacktrace:\n\tGetHandleVerifier [0x00007FF67DA26EE5+28773]\n\t(No symbol) [0x00007FF67D9925D0]\n\t(No symbol) [0x00007FF67D828FAA]\n\t(No symbol) [0x00007FF67D87F286]\n\t(No symbol) [0x00007FF67D87F4BC]\n\t(No symbol) [0x00007FF67D8D2A27]\n\t(No symbol) [0x00007FF67D8A728F]\n\t(No symbol) [0x00007FF67D8CF6F3]\n\t(No symbol) [0x00007FF67D8A7023]\n\t(No symbol) [0x00007FF67D86FF5E]\n\t(No symbol) [0x00007FF67D8711E3]\n\tGetHandleVerifier [0x00007FF67DD7422D+3490733]\n\tGetHandleVerifier [0x00007FF67DD8BA13+3586963]\n\tGetHandleVerifier [0x00007FF67DD8144D+3544525]\n\tGetHandleVerifier [0x00007FF67DAEC9AA+838442]\n\t(No symbol) [0x00007FF67D99D01F]\n\t(No symbol) [0x00007FF67D9995E4]\n\t(No symbol) [0x00007FF67D999786]\n\t(No symbol) [0x00007FF67D988CB9]\n\tBaseThreadInitThunk [0x00007FFB3B307374+20]\n\tRtlUserThreadStart [0x00007FFB3D2BCC91+33]\n"
     ]
    }
   ],
   "source": [
    "def sign_up():\n",
    "    driver = setup()\n",
    "    wait = WebDriverWait(driver, 10)\n",
    "\n",
    "    try:\n",
    "        # Navigate to the sign-in page\n",
    "        signinBtn = wait.until(EC.element_to_be_clickable((By.XPATH, '//a[@href=\"/users/sign_in\"]')))\n",
    "        signinBtn.click()\n",
    "\n",
    "        # Navigate to the sign-up page\n",
    "        signupBtn = wait.until(EC.element_to_be_clickable((By.XPATH, '//a[@href=\"/users/sign_up\"]')))\n",
    "        signupBtn.click()\n",
    "\n",
    "        wait.until(EC.presence_of_element_located((By.XPATH, \"//h2[contains(text(), 'Sign up')]\")))  \n",
    "        # Fill out the sign-up form\n",
    "        email_input = wait.until(EC.presence_of_element_located((By.ID, \"user_email\")))  \n",
    "        email_input.send_keys(\"jjj@endtest-mail.io\")\n",
    "\n",
    "        password_input = wait.until(EC.presence_of_element_located((By.ID, \"user_password\")))  \n",
    "        password_input.send_keys(\"Aa@@123\")\n",
    "    \n",
    "        password_confirmation_input = wait.until(EC.presence_of_element_located((By.ID, \"user_password_confirmation\"))) \n",
    "        password_confirmation_input.send_keys(\"Aa@@123\")\n",
    "    \n",
    "        submit_button = wait.until(EC.element_to_be_clickable((By.XPATH, \"//input[@type='submit' and @value='Sign up']\")))  \n",
    "        submit_button.click()\n",
    "        print(\"Sign-up form submitted!\")\n",
    "\n",
    "    except Exception as e:\n",
    "        print(\"An error occurred during the process:\", e)\n",
    "\n",
    "\n",
    "    driver.get(\"https://app.endtest.io/mailbox?email=jjj@endtest-mail.io\")\n",
    "    mail = wait.until(EC.element_to_be_clickable((By.CLASS_NAME, \"email_item\"))) \n",
    "    mail.click()\n",
    "    mailLink = wait.until(EC.element_to_be_clickable((By.XPATH, \"(//a)[1]\"))) \n",
    "    mailLink.click()\n",
    "    sign_in(driver)\n",
    "    teardown(driver)\n",
    "\n",
    "sign_up()\n"
   ]
  },
  {
   "cell_type": "code",
   "execution_count": 10,
   "metadata": {},
   "outputs": [],
   "source": [
    "def forget_pass():\n",
    "    driver = setup()\n",
    "    wait = WebDriverWait(driver, 10)\n",
    "    \n",
    "    try:\n",
    "        signinBtn = wait.until(EC.element_to_be_clickable((By.XPATH, '//a[@href=\"/users/sign_in\"]')))\n",
    "        signinBtn.click()\n",
    "    \n",
    "        forget_password = wait.until(EC.element_to_be_clickable((By.XPATH, '//a[@href=\"/users/password/new\"]')))\n",
    "        forget_password.click()\n",
    "        \n",
    "        wait.until(EC.presence_of_element_located((By.XPATH, \"//h2[contains(text(), 'Forgot password?')]\"))) \n",
    "\n",
    "        username = wait.until(EC.presence_of_element_located((By.XPATH, \"//input[@type='email']\")))\n",
    "        username.send_keys(\"jedofav414@endtest-mail.io\")\n",
    "        \n",
    "        submit = wait.until(EC.element_to_be_clickable((By.XPATH, \"//input[@type='submit']\")))\n",
    "        submit.click()\n",
    "    \n",
    "    except Exception as e:\n",
    "        print(\"An error occurred during the process:\", e)\n",
    "        \n",
    "    driver.get(\"https://app.endtest.io/mailbox?email=jedofav414@endtest-mail.io\")\n",
    "    mail = wait.until(EC.element_to_be_clickable((By.XPATH, \"//div[contains(text(), 'Password reset')]\"))) \n",
    "    mail.click()\n",
    "    mail_link = wait.until(EC.element_to_be_clickable((By.XPATH, \"//a[contains(text(),'http://techbrain.ai/users/password/edit?reset_password_token')]\"))) \n",
    "    mail_link.click()\n",
    "\n",
    "    wait.until(EC.presence_of_element_located((By.XPATH, \"//h2[contains(text(), 'Change your passsword')]\"))) \n",
    "\n",
    "    new_password = wait.until(EC.presence_of_element_located((By.ID, \"user_password\")))\n",
    "    new_password.send_keys(\"jedofav414\")\n",
    "\n",
    "    confirm_password = wait.until(EC.presence_of_element_located((By.ID, \"user_password_confirmation\")))\n",
    "    confirm_password.send_keys(\"jedofav414\")\n",
    "        \n",
    "    update_password = wait.until(EC.element_to_be_clickable((By.XPATH, \"//input[@type='submit']\")))\n",
    "    update_password.click()\n",
    "    \n",
    "    time.sleep(4)\n",
    "    \n",
    "  \n",
    "    teardown(driver)\n",
    "forget_pass()\n"
   ]
  },
  {
   "cell_type": "code",
   "execution_count": 11,
   "metadata": {},
   "outputs": [
    {
     "name": "stdout",
     "output_type": "stream",
     "text": [
      "Profile updated successfully!\n"
     ]
    }
   ],
   "source": [
    "def sign_in(driver):\n",
    "    wait = WebDriverWait(driver, 10)\n",
    "\n",
    "    signinBtn = wait.until(EC.element_to_be_clickable((By.XPATH, '//a[@href=\"/users/sign_in\"]')))\n",
    "    signinBtn.click()\n",
    "\n",
    "    username = wait.until(EC.presence_of_element_located((By.XPATH, \"//input[@type='email']\")))\n",
    "    username.send_keys(\"aarzuawal@gmail.com\")\n",
    "\n",
    "    password = wait.until(EC.presence_of_element_located((By.ID, \"user_password\")))\n",
    "    password.send_keys(\"Aa@@123\")\n",
    "\n",
    "    submit = wait.until(EC.element_to_be_clickable((By.XPATH, \"//input[@type='submit']\")))\n",
    "    submit.click()\n",
    "    return driver \n",
    "def edit_profile():\n",
    "    driver = setup()\n",
    "    sign_in(driver)\n",
    "    wait = WebDriverWait(driver, 10)\n",
    "    try:\n",
    "        Profile = wait.until(EC.element_to_be_clickable((By.XPATH, '//a[@href=\"/profile\"]')))\n",
    "        Profile.click()\n",
    "\n",
    "        edit_profile1 = wait.until(EC.element_to_be_clickable((By.XPATH, '//a[@href=\"/profile/edit\"]')))\n",
    "        edit_profile1.click()\n",
    "\n",
    "        wait.until(EC.presence_of_element_located((By.XPATH, '//a[@href=\"/profile/edit\"]')))\n",
    "           \n",
    "        # Fill out the form fields\n",
    "        first_name = wait.until(EC.presence_of_element_located((By.ID, \"user_first_name\")))  \n",
    "        first_name.clear()\n",
    "        first_name.send_keys(\"John\") \n",
    "        \n",
    "        last_name = wait.until(EC.presence_of_element_located((By.ID, \"user_last_name\")))  \n",
    "        last_name.clear()\n",
    "        last_name.send_keys(\"Doe\")  \n",
    "        \n",
    "        email = wait.until(EC.presence_of_element_located((By.ID, \"user_email\")))  \n",
    "        email.clear()\n",
    "        email.send_keys(\"john.doe@example.com\") \n",
    "        \n",
    "        \n",
    "        # Submit the form\n",
    "        submit_button = wait.until(EC.element_to_be_clickable((By.XPATH, \"//input[@type='submit']\"))) \n",
    "        submit_button.click()\n",
    "        \n",
    "        print(\"Profile updated successfully!\")\n",
    "        \n",
    "    except Exception as e:\n",
    "        print(\"An error occurred while editing the profile:\", e)\n",
    "    \n",
    "    teardown(driver)\n",
    "edit_profile()\n",
    "    "
   ]
  },
  {
   "cell_type": "code",
   "execution_count": 23,
   "metadata": {},
   "outputs": [
    {
     "name": "stdout",
     "output_type": "stream",
     "text": [
      "Do you want to logout?\n"
     ]
    }
   ],
   "source": [
    "def sign_out():\n",
    "    driver = setup()\n",
    "    sign_in(driver)\n",
    "    wait = WebDriverWait(driver, 10)\n",
    "    try:\n",
    "        sign_out = wait.until(EC.element_to_be_clickable((By.XPATH, '//a[@href=\"/users/sign_out\"]')))\n",
    "        sign_out.click()     \n",
    "\n",
    "        alert = wait.until(EC.alert_is_present())\n",
    "        print(alert.text)\n",
    "        alert.accept()\n",
    "        \n",
    "        wait.until(EC.url_contains(\"/users/sign_in\")) \n",
    "        \n",
    "    except Exception as e:\n",
    "        print(\"An error occurred while editing the profile:\", e)\n",
    "    \n",
    "    teardown(driver)\n",
    "sign_out()"
   ]
  }
 ],
 "metadata": {
  "kernelspec": {
   "display_name": "Python 3",
   "language": "python",
   "name": "python3"
  },
  "language_info": {
   "codemirror_mode": {
    "name": "ipython",
    "version": 3
   },
   "file_extension": ".py",
   "mimetype": "text/x-python",
   "name": "python",
   "nbconvert_exporter": "python",
   "pygments_lexer": "ipython3",
   "version": "3.12.3"
  }
 },
 "nbformat": 4,
 "nbformat_minor": 2
}
