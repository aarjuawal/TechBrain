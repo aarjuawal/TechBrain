{
 "cells": [
  {
   "cell_type": "code",
   "execution_count": 6,
   "metadata": {},
   "outputs": [],
   "source": [
    "from selenium import webdriver\n",
    "from selenium.webdriver.common.by import By\n",
    "import time\n",
    "from selenium.webdriver.support.ui import WebDriverWait\n",
    "from selenium.webdriver.support import expected_conditions as EC"
   ]
  },
  {
   "cell_type": "code",
   "execution_count": 7,
   "metadata": {},
   "outputs": [],
   "source": [
    "def setup():\n",
    "    driver = webdriver.Chrome()\n",
    "    driver.get(\"https://techbrain.ai/\")\n",
    "    return driver\n",
    "def teardown(driver):\n",
    "    driver.quit()"
   ]
  },
  {
   "cell_type": "code",
   "execution_count": 8,
   "metadata": {},
   "outputs": [],
   "source": [
    "def GetButton():\n",
    "    driver = setup()\n",
    "    startBtn = driver.find_element(By.XPATH, '//a[@href=\"/introduction-to-ruby-and-object-oriented-programming/lessons/goals-of-the-intro-course\"]')\n",
    "    startBtn.click()\n",
    "    teardown(driver)\n",
    "GetButton()\n"
   ]
  },
  {
   "cell_type": "code",
   "execution_count": null,
   "metadata": {},
   "outputs": [
    {
     "name": "stdout",
     "output_type": "stream",
     "text": [
      "Course modal opened!\n",
      "Fourth lesson clicked!\n"
     ]
    }
   ],
   "source": [
    "def GetLists():\n",
    "    driver = setup()\n",
    "    wait = WebDriverWait(driver, 10)\n",
    "    \n",
    "    try:\n",
    "        llists = wait.until(EC.element_to_be_clickable((By.XPATH, '//a[@class=\"flex mb-3\"]')))\n",
    "        llists.click()\n",
    "        \n",
    "        lesson = wait.until(EC.element_to_be_clickable((By.XPATH, '//a[@href=\"/introduction-to-ruby-and-object-oriented-programming/lessons/goals-of-the-intro-course\"]')))\n",
    "        lesson.click()\n",
    "        \n",
    "        course = wait.until(EC.element_to_be_clickable((By.XPATH, '//a[@data-modal-target=\"lessonListModal\"]')))\n",
    "        course.click()\n",
    "        \n",
    "        lesson4 = wait.until(EC.element_to_be_clickable((By.XPATH, '//a[@href=\"/introduction-to-ruby-and-object-oriented-programming/lessons/your-first-ruby-program\"]')))\n",
    "        lesson4.click()\n",
    "        \n",
    "        quiz = wait.until(EC.element_to_be_clickable((By.XPATH, '//a[@href=\"/introduction-to-ruby-and-object-oriented-programming/lessons/your-first-ruby-program/quiz\"]')))\n",
    "        quiz.click()\n",
    "        \n",
    "        checkboxes = wait.until(EC.presence_of_all_elements_located((By.XPATH, \"//input[@type='checkbox']\")))\n",
    "        for checkbox in checkboxes:\n",
    "            checkbox.click()\n",
    "        \n",
    "        submit_button = wait.until(EC.element_to_be_clickable((By.XPATH, \"//button[contains(text(), 'Submit')]\")))\n",
    "        submit_button.click()\n",
    "    \n",
    "    except Exception as e:\n",
    "        print(\"An error occurred during the process:\", e)\n",
    "    \n",
    "    teardown(driver)\n",
    "\n",
    "GetLists()"
   ]
  },
  {
   "cell_type": "code",
   "execution_count": 10,
   "metadata": {},
   "outputs": [],
   "source": [
    "def GetLogo():\n",
    "    driver = setup()\n",
    "    lists = driver.find_element(By.XPATH, '//img[@alt=\"Techbrain\"]')\n",
    "    lists.click()\n",
    "    teardown(driver)\n",
    "GetLogo()"
   ]
  },
  {
   "cell_type": "code",
   "execution_count": 11,
   "metadata": {},
   "outputs": [],
   "source": [
    "def Getfooter():\n",
    "    driver = setup()\n",
    "    footer = driver.find_element(By.XPATH, '//footer').is_displayed()\n",
    "    teardown(driver)\n",
    "Getfooter()"
   ]
  },
  {
   "cell_type": "code",
   "execution_count": 12,
   "metadata": {},
   "outputs": [
    {
     "name": "stdout",
     "output_type": "stream",
     "text": [
      "Continue link clicked!\n"
     ]
    }
   ],
   "source": [
    "def SignIn(driver):\n",
    "    wait = WebDriverWait(driver, 10)\n",
    "\n",
    "    signinBtn = wait.until(EC.element_to_be_clickable((By.XPATH, '//a[@href=\"/users/sign_in\"]')))\n",
    "    signinBtn.click()\n",
    "\n",
    "    username = wait.until(EC.presence_of_element_located((By.XPATH, \"//input[@type='email']\")))\n",
    "    username.send_keys(\"aarzuawal@gmail.com\")\n",
    "\n",
    "    password = wait.until(EC.presence_of_element_located((By.ID, \"user_password\")))\n",
    "    password.send_keys(\"Aa@@123\")\n",
    "\n",
    "    submit = wait.until(EC.element_to_be_clickable((By.XPATH, \"//input[@type='submit']\")))\n",
    "    submit.click()\n",
    "    return driver \n",
    "def Start():\n",
    "    driver = setup()\n",
    "    SignIn(driver)  # Ensuring login is completed first\n",
    "    wait = WebDriverWait(driver, 20)  # Increased wait time\n",
    "    \n",
    "    try:\n",
    "        start_link = wait.until(EC.element_to_be_clickable((By.LINK_TEXT, \"Start\")))\n",
    "        start_link.click()\n",
    "        print(\"Start link clicked!\")\n",
    "    except:\n",
    "        try:\n",
    "            continue_link = wait.until(EC.element_to_be_clickable((By.LINK_TEXT, \"Continue\")))\n",
    "            continue_link.click()\n",
    "            print(\"Continue link clicked!\")\n",
    "        except Exception as e:\n",
    "            print(\"Neither Start nor Continue button found or clickable:\", e)\n",
    "            teardown(driver)\n",
    "            return\n",
    "    \n",
    "    teardown(driver)\n",
    "Start()\n",
    "  \n"
   ]
  },
  {
   "cell_type": "code",
   "execution_count": 13,
   "metadata": {},
   "outputs": [
    {
     "name": "stdout",
     "output_type": "stream",
     "text": [
      "Sign-up form submitted!\n"
     ]
    }
   ],
   "source": [
    "def SignUp():\n",
    "    driver = setup()\n",
    "    wait = WebDriverWait(driver, 10)\n",
    "\n",
    "    try:\n",
    "        # Navigate to the sign-in page\n",
    "        signinBtn = wait.until(EC.element_to_be_clickable((By.XPATH, '//a[@href=\"/users/sign_in\"]')))\n",
    "        signinBtn.click()\n",
    "\n",
    "        # Navigate to the sign-up page\n",
    "        signupBtn = wait.until(EC.element_to_be_clickable((By.XPATH, '//a[@href=\"/users/sign_up\"]')))\n",
    "        signupBtn.click()\n",
    "\n",
    "        wait.until(EC.presence_of_element_located((By.XPATH, \"//h2[contains(text(), 'Sign up')]\")))  \n",
    "        # Fill out the sign-up form\n",
    "        email_input = wait.until(EC.presence_of_element_located((By.ID, \"user_email\")))  \n",
    "        email_input.send_keys(\"jedofav414@endtest-mail.io\")\n",
    "\n",
    "        password_input = wait.until(EC.presence_of_element_located((By.ID, \"user_password\")))  \n",
    "        password_input.send_keys(\"Aa@@123\")\n",
    "    \n",
    "        password_confirmation_input = wait.until(EC.presence_of_element_located((By.ID, \"user_password_confirmation\"))) \n",
    "        password_confirmation_input.send_keys(\"Aa@@123\")\n",
    "    \n",
    "        submit_button = wait.until(EC.element_to_be_clickable((By.XPATH, \"//input[@type='submit' and @value='Sign up']\")))  \n",
    "        submit_button.click()\n",
    "        print(\"Sign-up form submitted!\")\n",
    "\n",
    "    except Exception as e:\n",
    "        print(\"An error occurred during the process:\", e)\n",
    "\n",
    "\n",
    "    driver.get(\"https://app.endtest.io/mailbox?email=jedofav414@endtest-mail.io\")\n",
    "    mail = wait.until(EC.element_to_be_clickable((By.CLASS_NAME, \"email_item\"))) \n",
    "    mail.click()\n",
    "    mailLink = wait.until(EC.element_to_be_clickable((By.XPATH, \"(//a)[1]\"))) \n",
    "    mailLink.click()\n",
    "    SignIn(driver)\n",
    "    time.sleep(4)\n",
    "    teardown(driver)\n",
    "\n",
    "SignUp()\n"
   ]
  },
  {
   "cell_type": "code",
   "execution_count": 14,
   "metadata": {},
   "outputs": [],
   "source": [
    "def forgetPass():\n",
    "    driver = setup()\n",
    "    wait = WebDriverWait(driver, 10)\n",
    "    \n",
    "    signinBtn = wait.until(EC.element_to_be_clickable((By.XPATH, '//a[@href=\"/users/sign_in\"]')))\n",
    "    signinBtn.click()\n",
    "    \n",
    "    forgetpassword = wait.until(EC.element_to_be_clickable((By.XPATH, '//a[@href=\"/users/password/new\"]')))\n",
    "    forgetpassword.click()\n",
    "    \n",
    "    username = wait.until(EC.presence_of_element_located((By.XPATH, \"//input[@type='email']\")))\n",
    "    username.send_keys(\"jedofav414@jomspar.com\")\n",
    "    \n",
    "    submit = wait.until(EC.element_to_be_clickable((By.XPATH, \"//input[@type='submit']\")))\n",
    "    submit.click()\n",
    "    \n",
    "    teardown(driver)\n",
    "forgetPass()\n"
   ]
  },
  {
   "cell_type": "code",
   "execution_count": 15,
   "metadata": {},
   "outputs": [
    {
     "name": "stdout",
     "output_type": "stream",
     "text": [
      "Profile updated successfully!\n"
     ]
    }
   ],
   "source": [
    "def SignIn(driver):\n",
    "    wait = WebDriverWait(driver, 10)\n",
    "\n",
    "    signinBtn = wait.until(EC.element_to_be_clickable((By.XPATH, '//a[@href=\"/users/sign_in\"]')))\n",
    "    signinBtn.click()\n",
    "\n",
    "    username = wait.until(EC.presence_of_element_located((By.XPATH, \"//input[@type='email']\")))\n",
    "    username.send_keys(\"aarzuawal@gmail.com\")\n",
    "\n",
    "    password = wait.until(EC.presence_of_element_located((By.ID, \"user_password\")))\n",
    "    password.send_keys(\"Aa@@123\")\n",
    "\n",
    "    submit = wait.until(EC.element_to_be_clickable((By.XPATH, \"//input[@type='submit']\")))\n",
    "    submit.click()\n",
    "    return driver \n",
    "def EditProfile():\n",
    "    driver = setup()\n",
    "    SignIn(driver)\n",
    "    wait = WebDriverWait(driver, 10)\n",
    "    try:\n",
    "        Profile = wait.until(EC.element_to_be_clickable((By.XPATH, '//a[@href=\"/profile\"]')))\n",
    "        Profile.click()\n",
    "\n",
    "        EditProfile = wait.until(EC.element_to_be_clickable((By.XPATH, '//a[@href=\"/profile/edit\"]')))\n",
    "        EditProfile.click()\n",
    "\n",
    "        wait.until(EC.presence_of_element_located((By.XPATH, '//a[@href=\"/profile/edit\"]')))\n",
    "           \n",
    "        # Fill out the form fields\n",
    "        first_name = wait.until(EC.presence_of_element_located((By.ID, \"user_first_name\")))  \n",
    "        first_name.clear()\n",
    "        first_name.send_keys(\"John\") \n",
    "        \n",
    "        last_name = wait.until(EC.presence_of_element_located((By.ID, \"user_last_name\")))  \n",
    "        last_name.clear()\n",
    "        last_name.send_keys(\"Doe\")  \n",
    "        \n",
    "        email = wait.until(EC.presence_of_element_located((By.ID, \"user_email\")))  \n",
    "        email.clear()\n",
    "        email.send_keys(\"john.doe@example.com\") \n",
    "        \n",
    "        \n",
    "        # Submit the form\n",
    "        submit_button = wait.until(EC.element_to_be_clickable((By.XPATH, \"//input[@type='submit']\"))) \n",
    "        submit_button.click()\n",
    "        \n",
    "        print(\"Profile updated successfully!\")\n",
    "        \n",
    "    except Exception as e:\n",
    "        print(\"An error occurred while editing the profile:\", e)\n",
    "    \n",
    "    \n",
    "    teardown(driver)\n",
    "EditProfile()\n",
    "    "
   ]
  },
  {
   "cell_type": "code",
   "execution_count": null,
   "metadata": {},
   "outputs": [],
   "source": []
  }
 ],
 "metadata": {
  "kernelspec": {
   "display_name": "Python 3",
   "language": "python",
   "name": "python3"
  },
  "language_info": {
   "codemirror_mode": {
    "name": "ipython",
    "version": 3
   },
   "file_extension": ".py",
   "mimetype": "text/x-python",
   "name": "python",
   "nbconvert_exporter": "python",
   "pygments_lexer": "ipython3",
   "version": "3.12.3"
  }
 },
 "nbformat": 4,
 "nbformat_minor": 2
}
